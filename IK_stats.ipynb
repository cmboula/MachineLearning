{
  "nbformat": 4,
  "nbformat_minor": 0,
  "metadata": {
    "colab": {
      "provenance": [],
      "include_colab_link": true
    },
    "kernelspec": {
      "name": "python3",
      "display_name": "Python 3"
    },
    "language_info": {
      "name": "python"
    }
  },
  "cells": [
    {
      "cell_type": "markdown",
      "metadata": {
        "id": "view-in-github",
        "colab_type": "text"
      },
      "source": [
        "<a href=\"https://colab.research.google.com/github/cmboula/MachineLearning/blob/master/IK_stats.ipynb\" target=\"_parent\"><img src=\"https://colab.research.google.com/assets/colab-badge.svg\" alt=\"Open In Colab\"/></a>"
      ]
    },
    {
      "cell_type": "markdown",
      "source": [
        "### Scipy\n",
        "\n",
        "Python library for doing optimization, linear algebra and also statistics!\n",
        "\n",
        "#### Installation\n",
        "\n",
        "just run this command on the command line\n",
        "`pip install scipy`\n",
        "\n",
        "#### statistics library\n",
        "\n",
        "there are many usages of scipy but here we are only interested in statistics related functions.\n",
        "\n",
        "`scipy.stats` this library has all the statistics related functions that we will use.\n",
        "\n",
        "\n"
      ],
      "metadata": {
        "id": "jW_dY5DeGgcA"
      }
    },
    {
      "cell_type": "markdown",
      "source": [
        "### Hypothesis testing"
      ],
      "metadata": {
        "id": "XKihdOFlIGrF"
      }
    },
    {
      "cell_type": "code",
      "source": [
        "\n",
        "!pip install matplotlib-venn"
      ],
      "metadata": {
        "colab": {
          "base_uri": "https://localhost:8080/"
        },
        "id": "ocUFcpeKNE9H",
        "outputId": "abfd621c-77ef-43d4-b8bf-ea6759e51c97"
      },
      "execution_count": null,
      "outputs": [
        {
          "output_type": "stream",
          "name": "stdout",
          "text": [
            "Looking in indexes: https://pypi.org/simple, https://us-python.pkg.dev/colab-wheels/public/simple/\n",
            "Requirement already satisfied: matplotlib-venn in /usr/local/lib/python3.9/dist-packages (0.11.9)\n",
            "Requirement already satisfied: numpy in /usr/local/lib/python3.9/dist-packages (from matplotlib-venn) (1.22.4)\n",
            "Requirement already satisfied: matplotlib in /usr/local/lib/python3.9/dist-packages (from matplotlib-venn) (3.7.1)\n",
            "Requirement already satisfied: scipy in /usr/local/lib/python3.9/dist-packages (from matplotlib-venn) (1.10.1)\n",
            "Requirement already satisfied: pyparsing>=2.3.1 in /usr/local/lib/python3.9/dist-packages (from matplotlib->matplotlib-venn) (3.0.9)\n",
            "Requirement already satisfied: importlib-resources>=3.2.0 in /usr/local/lib/python3.9/dist-packages (from matplotlib->matplotlib-venn) (5.12.0)\n",
            "Requirement already satisfied: python-dateutil>=2.7 in /usr/local/lib/python3.9/dist-packages (from matplotlib->matplotlib-venn) (2.8.2)\n",
            "Requirement already satisfied: packaging>=20.0 in /usr/local/lib/python3.9/dist-packages (from matplotlib->matplotlib-venn) (23.1)\n",
            "Requirement already satisfied: fonttools>=4.22.0 in /usr/local/lib/python3.9/dist-packages (from matplotlib->matplotlib-venn) (4.39.3)\n",
            "Requirement already satisfied: kiwisolver>=1.0.1 in /usr/local/lib/python3.9/dist-packages (from matplotlib->matplotlib-venn) (1.4.4)\n",
            "Requirement already satisfied: contourpy>=1.0.1 in /usr/local/lib/python3.9/dist-packages (from matplotlib->matplotlib-venn) (1.0.7)\n",
            "Requirement already satisfied: pillow>=6.2.0 in /usr/local/lib/python3.9/dist-packages (from matplotlib->matplotlib-venn) (8.4.0)\n",
            "Requirement already satisfied: cycler>=0.10 in /usr/local/lib/python3.9/dist-packages (from matplotlib->matplotlib-venn) (0.11.0)\n",
            "Requirement already satisfied: zipp>=3.1.0 in /usr/local/lib/python3.9/dist-packages (from importlib-resources>=3.2.0->matplotlib->matplotlib-venn) (3.15.0)\n",
            "Requirement already satisfied: six>=1.5 in /usr/local/lib/python3.9/dist-packages (from python-dateutil>=2.7->matplotlib->matplotlib-venn) (1.16.0)\n"
          ]
        }
      ]
    },
    {
      "cell_type": "code",
      "source": [
        "import numpy as np\n",
        "import pandas as pd\n",
        "from scipy.stats import ttest_ind, t, f_oneway\n",
        "import matplotlib.pyplot as plt\n",
        "import random\n",
        "\n"
      ],
      "metadata": {
        "id": "MPy1kSG6FetR"
      },
      "execution_count": null,
      "outputs": []
    },
    {
      "cell_type": "markdown",
      "source": [
        "###\n",
        "This code generates two random samples of size 100 from a normal distribution.\n",
        "It then performs a two-sample t-test on the two samples to see if they are significantly different.\n",
        "The results of the t-test are printed to the console.\n",
        "The ttest_ind function in the scipy.stats module performs a two-sample t-test."
      ],
      "metadata": {
        "id": "-kh7MIwgE1nw"
      }
    },
    {
      "cell_type": "code",
      "source": [
        "# Generate two random samples of size 100 from a normal distribution.\n",
        "v1 = np.random.normal(size=100)\n",
        "v2 = np.random.normal(size=100)\n",
        "\n",
        "# Perform a two-sample t-test on the two samples to see if they are significantly different.\n",
        "res = ttest_ind(v1, v2)\n",
        "\n",
        "# Print the results of the t-test to the console.\n",
        "print(res)"
      ],
      "metadata": {
        "colab": {
          "base_uri": "https://localhost:8080/"
        },
        "id": "FLDYfHUYNB74",
        "outputId": "7ceba459-f568-4b34-ecb2-49ad87067c56"
      },
      "execution_count": null,
      "outputs": [
        {
          "output_type": "stream",
          "name": "stdout",
          "text": [
            "Ttest_indResult(statistic=-0.7396797241096251, pvalue=0.4603704315294689)\n"
          ]
        }
      ]
    },
    {
      "cell_type": "markdown",
      "source": [
        "### DOF in this case is 198 and we can calculate the p value using the t distribution cdf function for dof 198 and critical value of -0.73 and get the same value as the ttest_ind function giving us."
      ],
      "metadata": {
        "id": "3UeM-8BWGZI8"
      }
    },
    {
      "cell_type": "code",
      "source": [
        "dof = (100-1) + (100-1)"
      ],
      "metadata": {
        "id": "dW1vLS2IQFMo"
      },
      "execution_count": null,
      "outputs": []
    },
    {
      "cell_type": "code",
      "source": [
        "t.cdf(-0.739, 198)*2"
      ],
      "metadata": {
        "colab": {
          "base_uri": "https://localhost:8080/"
        },
        "id": "whoai2hNSO-J",
        "outputId": "111be0e6-f73d-4d20-da7d-5f899b3619b5"
      },
      "execution_count": null,
      "outputs": [
        {
          "output_type": "execute_result",
          "data": {
            "text/plain": [
              "0.4607821416096124"
            ]
          },
          "metadata": {},
          "execution_count": 44
        }
      ]
    },
    {
      "cell_type": "code",
      "source": [
        "x = np.arange(-4,4,0.1)\n",
        "t_dist = t.pdf(x,dof)\n",
        "plt.axvline(x=-0.739)\n",
        "plt.axvline(x=0.739)\n",
        "plt.plot(x, t_dist, 'red')\n"
      ],
      "metadata": {
        "colab": {
          "base_uri": "https://localhost:8080/",
          "height": 448
        },
        "id": "eF9kMklBQMOy",
        "outputId": "35819147-1eec-44ab-f113-df0ddaa7fa7b"
      },
      "execution_count": null,
      "outputs": [
        {
          "output_type": "execute_result",
          "data": {
            "text/plain": [
              "[<matplotlib.lines.Line2D at 0x7fe074789100>]"
            ]
          },
          "metadata": {},
          "execution_count": 46
        },
        {
          "output_type": "display_data",
          "data": {
            "text/plain": [
              "<Figure size 640x480 with 1 Axes>"
            ],
            "image/png": "[encoded data removed]"
          },
          "metadata": {}
        }
      ]
    },
    {
      "cell_type": "markdown",
      "source": [
        "### In this case, we have subtly challenged the data. Now one of the varibales is with mean of 1 and one with mean 0 and we expect the t test to reject the null hypothesis this time as the two varibales have different means."
      ],
      "metadata": {
        "id": "4R4hoZ2eG3Ay"
      }
    },
    {
      "cell_type": "code",
      "source": [
        "v1 = np.random.normal(loc=1, size=100)\n",
        "v2 = np.random.normal(size=100)\n",
        "\n",
        "res = ttest_ind(v1, v2)\n",
        "\n",
        "print(res)"
      ],
      "metadata": {
        "colab": {
          "base_uri": "https://localhost:8080/"
        },
        "id": "es9BcC9oFf-Y",
        "outputId": "1c88b1ac-7839-48e7-802b-0f3426ccf2a9"
      },
      "execution_count": null,
      "outputs": [
        {
          "output_type": "stream",
          "name": "stdout",
          "text": [
            "Ttest_indResult(statistic=6.437539046346247, pvalue=8.977455345678487e-10)\n"
          ]
        }
      ]
    },
    {
      "cell_type": "code",
      "source": [
        "dof = (100-1) + (100-1)"
      ],
      "metadata": {
        "id": "TPDNLdLtSUoZ"
      },
      "execution_count": null,
      "outputs": []
    },
    {
      "cell_type": "code",
      "source": [
        "t.cdf(-6.437, 198)*2"
      ],
      "metadata": {
        "colab": {
          "base_uri": "https://localhost:8080/"
        },
        "id": "MCo4N3lHSUtB",
        "outputId": "ea999fea-3812-4f3f-db84-8e794b774bf0"
      },
      "execution_count": null,
      "outputs": [
        {
          "output_type": "execute_result",
          "data": {
            "text/plain": [
              "9.003843808958688e-10"
            ]
          },
          "metadata": {},
          "execution_count": 50
        }
      ]
    },
    {
      "cell_type": "code",
      "source": [
        "x = np.arange(-7,7,0.1)\n",
        "t_dist = t.pdf(x,dof)\n",
        "plt.axvline(x=-6.437)\n",
        "plt.axvline(x=6.437)\n",
        "plt.plot(x, t_dist, 'red')\n"
      ],
      "metadata": {
        "colab": {
          "base_uri": "https://localhost:8080/",
          "height": 448
        },
        "id": "fXgkPL4lSYMK",
        "outputId": "60fab617-3913-49a7-fded-5199162ba749"
      },
      "execution_count": null,
      "outputs": [
        {
          "output_type": "execute_result",
          "data": {
            "text/plain": [
              "[<matplotlib.lines.Line2D at 0x7fe07448f370>]"
            ]
          },
          "metadata": {},
          "execution_count": 51
        },
        {
          "output_type": "display_data",
          "data": {
            "text/plain": [
              "<Figure size 640x480 with 1 Axes>"
            ],
            "image/png": "[encoded data removed]"
          },
          "metadata": {}
        }
      ]
    },
    {
      "cell_type": "code",
      "source": [
        "x = np.arange(-4,4,0.1)\n",
        "lower_df = t.pdf(x,1)\n",
        "higher_df = t.pdf(x,100)\n",
        "even_higher_df = t.pdf(x,1000)\n",
        "plt.plot(x, lower_df, 'red', x, higher_df, 'magenta', x, even_higher_df, 'green')"
      ],
      "metadata": {
        "colab": {
          "base_uri": "https://localhost:8080/",
          "height": 484
        },
        "id": "DAEtGnSCFgM3",
        "outputId": "270048da-0427-4274-d640-f5790b1ae8e5"
      },
      "execution_count": null,
      "outputs": [
        {
          "output_type": "execute_result",
          "data": {
            "text/plain": [
              "[<matplotlib.lines.Line2D at 0x7fe06bdb8bb0>,\n",
              " <matplotlib.lines.Line2D at 0x7fe06bdb8b80>,\n",
              " <matplotlib.lines.Line2D at 0x7fe06bdb8be0>]"
            ]
          },
          "metadata": {},
          "execution_count": 52
        },
        {
          "output_type": "display_data",
          "data": {
            "text/plain": [
              "<Figure size 640x480 with 1 Axes>"
            ],
            "image/png": "[encoded data removed]"
          },
          "metadata": {}
        }
      ]
    },
    {
      "cell_type": "code",
      "source": [],
      "metadata": {
        "id": "dlrApQ3qFgRP"
      },
      "execution_count": null,
      "outputs": []
    },
    {
      "cell_type": "markdown",
      "source": [
        "### ANOVA"
      ],
      "metadata": {
        "id": "pZaxt97ZPWNJ"
      }
    },
    {
      "cell_type": "markdown",
      "source": [
        "###\n",
        "This code generates four random samples of size 100 from a normal distribution.\n",
        "It then performs a one-way ANOVA test on the four samples to see if their means are significantly different.\n",
        "The results of the ANOVA test are printed to the console."
      ],
      "metadata": {
        "id": "ST1aV8NuHoL-"
      }
    },
    {
      "cell_type": "code",
      "source": [
        "v1 = np.random.normal(size=100)\n",
        "v2 = np.random.normal(size=100)\n",
        "v3 = np.random.normal(size=100)\n",
        "v4 = np.random.normal(size=100)\n",
        "\n",
        "res = f_oneway(v1, v2, v3, v4)\n",
        "\n",
        "print(res)"
      ],
      "metadata": {
        "colab": {
          "base_uri": "https://localhost:8080/"
        },
        "id": "zQyr5d6kPp4T",
        "outputId": "834f713f-4670-4b5b-c194-828d0d720da3"
      },
      "execution_count": null,
      "outputs": [
        {
          "output_type": "stream",
          "name": "stdout",
          "text": [
            "F_onewayResult(statistic=0.6855581108472087, pvalue=0.5612874318988647)\n"
          ]
        }
      ]
    },
    {
      "cell_type": "markdown",
      "source": [
        "Here, again we have very similar setting but one of the variables has a mean of 1 and we expect our t test to now reject the null hypothesis that all means are same."
      ],
      "metadata": {
        "id": "v7XLjteTHxKT"
      }
    },
    {
      "cell_type": "code",
      "source": [
        "v1 = np.random.normal(size=100)\n",
        "v2 = np.random.normal(size=100)\n",
        "v3 = np.random.normal(size=100)\n",
        "v4 = np.random.normal(loc=1, size=100)\n",
        "\n",
        "res = f_oneway(v1, v2, v3, v4)\n",
        "\n",
        "print(res)"
      ],
      "metadata": {
        "colab": {
          "base_uri": "https://localhost:8080/"
        },
        "id": "HYmClCLlPqa1",
        "outputId": "79906481-24db-40c8-e605-97ea40e0a2f5"
      },
      "execution_count": null,
      "outputs": [
        {
          "output_type": "stream",
          "name": "stdout",
          "text": [
            "F_onewayResult(statistic=36.19664629636931, pvalue=1.0808541560963717e-20)\n"
          ]
        }
      ]
    },
    {
      "cell_type": "markdown",
      "source": [
        "### Confidence interval"
      ],
      "metadata": {
        "id": "lpP-fpqgU9WV"
      }
    },
    {
      "cell_type": "markdown",
      "source": [
        "### Now, we generate random samples and look at the distribution of sample means. We take random samples from our data and save the sample means in the sample_means list. The mean of the random data set and the mean of sample means is same, and the standard deviation of sample means is standard deviation of the data set divided by square root of the sample size. This is central limit theorem. Now that we know the sample meand and sample standard deviation and that it follows normal distribution, we can calculate the confidence interval and any other statistics for this distribution."
      ],
      "metadata": {
        "id": "ayzx5WciIYwt"
      }
    },
    {
      "cell_type": "code",
      "source": [
        "data = np.random.rand(10000)"
      ],
      "metadata": {
        "id": "0Ql5djcQPqXj"
      },
      "execution_count": null,
      "outputs": []
    },
    {
      "cell_type": "code",
      "source": [
        "data[:10]"
      ],
      "metadata": {
        "colab": {
          "base_uri": "https://localhost:8080/"
        },
        "id": "Ycteb9jePqUz",
        "outputId": "b12ca96d-9ba3-4717-f24a-e7be0a2d3e0c"
      },
      "execution_count": null,
      "outputs": [
        {
          "output_type": "execute_result",
          "data": {
            "text/plain": [
              "array([0.32994898, 0.53037882, 0.19437707, 0.90419139, 0.20475393,\n",
              "       0.01632127, 0.52807534, 0.90289315, 0.92507879, 0.9695741 ])"
            ]
          },
          "metadata": {},
          "execution_count": 75
        }
      ]
    },
    {
      "cell_type": "code",
      "source": [
        "data_mean = np.mean(data)"
      ],
      "metadata": {
        "id": "Tdjg-FjEPqQD"
      },
      "execution_count": null,
      "outputs": []
    },
    {
      "cell_type": "code",
      "source": [
        "data_mean"
      ],
      "metadata": {
        "colab": {
          "base_uri": "https://localhost:8080/"
        },
        "id": "dOQ8DhxvPqJ0",
        "outputId": "df65f937-72cf-4489-adf4-5d34a2423810"
      },
      "execution_count": null,
      "outputs": [
        {
          "output_type": "execute_result",
          "data": {
            "text/plain": [
              "0.5011138177314038"
            ]
          },
          "metadata": {},
          "execution_count": 77
        }
      ]
    },
    {
      "cell_type": "code",
      "source": [
        "data_std = np.std(data)"
      ],
      "metadata": {
        "id": "xStilxItPqBj"
      },
      "execution_count": null,
      "outputs": []
    },
    {
      "cell_type": "code",
      "source": [
        "data_std"
      ],
      "metadata": {
        "colab": {
          "base_uri": "https://localhost:8080/"
        },
        "id": "kuTKpBWEVS5i",
        "outputId": "f06a205d-f3de-4176-e57e-a3cb86e98431"
      },
      "execution_count": null,
      "outputs": [
        {
          "output_type": "execute_result",
          "data": {
            "text/plain": [
              "0.28951606188923823"
            ]
          },
          "metadata": {},
          "execution_count": 79
        }
      ]
    },
    {
      "cell_type": "code",
      "source": [
        "sample_means = []\n",
        "for _ in range(100):\n",
        "  sample = random.choices(data, k=50)\n",
        "  sample_mean = np.mean(sample)\n",
        "  sample_means.append(sample_mean)"
      ],
      "metadata": {
        "id": "9ket7usMVS8A"
      },
      "execution_count": null,
      "outputs": []
    },
    {
      "cell_type": "code",
      "source": [
        "sample_mean = np.mean(sample_means)"
      ],
      "metadata": {
        "id": "3dK7ZyWKVS-Z"
      },
      "execution_count": null,
      "outputs": []
    },
    {
      "cell_type": "code",
      "source": [
        "sample_mean"
      ],
      "metadata": {
        "colab": {
          "base_uri": "https://localhost:8080/"
        },
        "id": "m6-Vx70_Wou0",
        "outputId": "85c517a7-00dc-46a0-c63e-2f469eacc09e"
      },
      "execution_count": null,
      "outputs": [
        {
          "output_type": "execute_result",
          "data": {
            "text/plain": [
              "0.5014135182800543"
            ]
          },
          "metadata": {},
          "execution_count": 82
        }
      ]
    },
    {
      "cell_type": "code",
      "source": [
        "sample_std = np.std(sample_means)"
      ],
      "metadata": {
        "id": "r1IP4lKxWpA0"
      },
      "execution_count": null,
      "outputs": []
    },
    {
      "cell_type": "code",
      "source": [
        "sample_std"
      ],
      "metadata": {
        "colab": {
          "base_uri": "https://localhost:8080/"
        },
        "id": "9lZmRcagWpDV",
        "outputId": "f71b1151-153f-436b-ec64-8f759a665cdb"
      },
      "execution_count": null,
      "outputs": [
        {
          "output_type": "execute_result",
          "data": {
            "text/plain": [
              "0.041153940748031075"
            ]
          },
          "metadata": {},
          "execution_count": 84
        }
      ]
    },
    {
      "cell_type": "code",
      "source": [
        "data_std/7"
      ],
      "metadata": {
        "colab": {
          "base_uri": "https://localhost:8080/"
        },
        "id": "sCx95sU5WpFk",
        "outputId": "f118820a-78ed-46e1-f542-d9d144ceb681"
      },
      "execution_count": null,
      "outputs": [
        {
          "output_type": "execute_result",
          "data": {
            "text/plain": [
              "0.04135943741274832"
            ]
          },
          "metadata": {},
          "execution_count": 86
        }
      ]
    },
    {
      "cell_type": "code",
      "source": [
        "left = sample_mean - 2*sample_std\n",
        "right = sample_mean + 2*sample_std"
      ],
      "metadata": {
        "id": "iRu78sGGX1cG"
      },
      "execution_count": null,
      "outputs": []
    },
    {
      "cell_type": "code",
      "source": [
        "plt.axvline(x=left)\n",
        "plt.axvline(x=right)\n",
        "plt.hist(sample_means, color='red')"
      ],
      "metadata": {
        "colab": {
          "base_uri": "https://localhost:8080/",
          "height": 520
        },
        "id": "t4nV4c6iVTDb",
        "outputId": "0cfb3f52-e4c5-42e3-9394-cdfe1ee1c31d"
      },
      "execution_count": null,
      "outputs": [
        {
          "output_type": "execute_result",
          "data": {
            "text/plain": [
              "(array([ 1.,  4.,  8., 13., 21., 23., 13.,  6.,  8.,  3.]),\n",
              " array([0.39260978, 0.4136547 , 0.43469963, 0.45574455, 0.47678948,\n",
              "        0.4978344 , 0.51887932, 0.53992425, 0.56096917, 0.58201409,\n",
              "        0.60305902]),\n",
              " <BarContainer object of 10 artists>)"
            ]
          },
          "metadata": {},
          "execution_count": 95
        },
        {
          "output_type": "display_data",
          "data": {
            "text/plain": [
              "<Figure size 640x480 with 1 Axes>"
            ],
            "image/png": "[encoded data removed]"
          },
          "metadata": {}
        }
      ]
    },
    {
      "cell_type": "markdown",
      "source": [
        "### AB testing"
      ],
      "metadata": {
        "id": "2zjxiZtJZEZ_"
      }
    },
    {
      "cell_type": "markdown",
      "source": [
        "Lets create some fake data for our demo. We have two groups A and B and we also have the conversion data for every sample. We calculate the conversion rate for the two groups and do a t test to see if the difference in conversion rates is statistically significant."
      ],
      "metadata": {
        "id": "JcgZhPiNaDSF"
      }
    },
    {
      "cell_type": "code",
      "source": [
        "converted = [0]*10000\n",
        "for i in range(10000):\n",
        "  if random.random() < 0.5:\n",
        "    converted[i] = 1\n",
        "\n",
        "groups = [0]*10000\n",
        "for i in range(10000):\n",
        "  if random.random() < 0.8:\n",
        "    groups[i] = 'A'\n",
        "  else:\n",
        "    groups[i] = 'B'"
      ],
      "metadata": {
        "id": "TcVC0V8iZHxW"
      },
      "execution_count": null,
      "outputs": []
    },
    {
      "cell_type": "code",
      "source": [
        "df = pd.DataFrame()"
      ],
      "metadata": {
        "id": "7wAzYHM3ZHuu"
      },
      "execution_count": null,
      "outputs": []
    },
    {
      "cell_type": "code",
      "source": [
        "df['group'] = groups\n",
        "df['converted'] = converted"
      ],
      "metadata": {
        "id": "aiWWESlwZHqA"
      },
      "execution_count": null,
      "outputs": []
    },
    {
      "cell_type": "markdown",
      "source": [
        " Split the data into two groups, A and B\n"
      ],
      "metadata": {
        "id": "lQNnHn_9atWi"
      }
    },
    {
      "cell_type": "code",
      "source": [
        "df_a = df[df['group'] == 'A']\n",
        "df_b = df[df['group'] == 'B']"
      ],
      "metadata": {
        "id": "1FqDDyvEZHnm"
      },
      "execution_count": null,
      "outputs": []
    },
    {
      "cell_type": "markdown",
      "source": [],
      "metadata": {
        "id": "QRMgL13FaxTT"
      }
    },
    {
      "cell_type": "code",
      "source": [
        "# Calculate the conversion rate for each group\n"
      ],
      "metadata": {
        "id": "EFlfBZUuZHk2"
      },
      "execution_count": null,
      "outputs": []
    },
    {
      "cell_type": "code",
      "source": [
        "conversion_rate_a = df_a['converted'].mean()\n",
        "conversion_rate_b = df_b['converted'].mean()"
      ],
      "metadata": {
        "id": "NC5shgBWazIL"
      },
      "execution_count": null,
      "outputs": []
    },
    {
      "cell_type": "code",
      "source": [
        "conversion_rate_a, conversion_rate_b"
      ],
      "metadata": {
        "colab": {
          "base_uri": "https://localhost:8080/"
        },
        "id": "zMad3-erbij6",
        "outputId": "1f15fd1f-ebd6-417d-9dc0-828c0ae466d2"
      },
      "execution_count": null,
      "outputs": [
        {
          "output_type": "execute_result",
          "data": {
            "text/plain": [
              "(0.4950433705080545, 0.5124352331606218)"
            ]
          },
          "metadata": {},
          "execution_count": 135
        }
      ]
    },
    {
      "cell_type": "markdown",
      "source": [
        "**Plot** the **conversion** rates"
      ],
      "metadata": {
        "id": "Y6WsgrZka1Jr"
      }
    },
    {
      "cell_type": "code",
      "source": [
        "plt.bar([1, 2], [conversion_rate_a, conversion_rate_b])\n",
        "plt.xlabel('Group')\n",
        "plt.ylabel('Conversion rate')\n",
        "plt.show()"
      ],
      "metadata": {
        "colab": {
          "base_uri": "https://localhost:8080/",
          "height": 449
        },
        "id": "yPiVjGPza3dD",
        "outputId": "98516ae4-36a5-4485-c3e6-33147606248b"
      },
      "execution_count": null,
      "outputs": [
        {
          "output_type": "display_data",
          "data": {
            "text/plain": [
              "<Figure size 640x480 with 1 Axes>"
            ],
            "image/png": "[encoded data removed]"
          },
          "metadata": {}
        }
      ]
    },
    {
      "cell_type": "markdown",
      "source": [
        "Conduct a hypothesis test to determine if the difference in conversion rates is statistically significant\n"
      ],
      "metadata": {
        "id": "_cocYCSZa5qr"
      }
    },
    {
      "cell_type": "code",
      "source": [
        "# Set the significance level\n",
        "alpha = 0.05\n",
        "\n",
        "# Calculate the p-value\n",
        "p_value = ttest_ind(df_a['converted'], df_b['converted'], equal_var=True).pvalue\n",
        "\n",
        "# If the p-value is less than the significance level, then we can reject the null hypothesis and conclude that the difference in conversion rates is statistically significant\n",
        "if p_value < alpha:\n",
        "    print('The difference in conversion rates is statistically significant.')\n",
        "else:\n",
        "    print('The difference in conversion rates is not statistically significant.')"
      ],
      "metadata": {
        "colab": {
          "base_uri": "https://localhost:8080/"
        },
        "id": "RxVv_aEGZH0G",
        "outputId": "22c6c99e-ca46-4b44-bcd2-2d4481bf9852"
      },
      "execution_count": null,
      "outputs": [
        {
          "output_type": "stream",
          "name": "stdout",
          "text": [
            "The difference in conversion rates is not statistically significant.\n"
          ]
        }
      ]
    },
    {
      "cell_type": "markdown",
      "source": [
        "### Anomaly detection\n",
        "\n",
        "Lets create some fake data for our analysis. Here we are demoing an anomaly detection model. We generate two dimentional data centered around mean (0, 0)\n",
        "\n",
        "After fitting the data to our model, we color code the data points based on model prediction. We can see that points closer to the centre of the distribution are color coded red and points outside the distribution are color coded blue and are the anomalous data points according the model.\n"
      ],
      "metadata": {
        "id": "CJ7csmQ0d5T4"
      }
    },
    {
      "cell_type": "code",
      "execution_count": null,
      "metadata": {
        "id": "d3Kdx-JXdafZ",
        "colab": {
          "base_uri": "https://localhost:8080/"
        },
        "outputId": "fa8b419c-826c-4911-c08c-0a1b2ece6be5"
      },
      "outputs": [
        {
          "output_type": "stream",
          "name": "stdout",
          "text": [
            "[[ 1.06576675  0.00691012]\n",
            " [-0.36117707 -0.87867719]\n",
            " [ 0.86183479 -0.26290344]\n",
            " [ 1.2659644   1.14301541]\n",
            " [-0.35745161  0.24122587]\n",
            " [-0.87430168 -2.33508868]\n",
            " [ 1.17829733  0.18044806]\n",
            " [ 1.63797467  0.94186853]\n",
            " [-0.85049537  1.11014919]\n",
            " [ 1.2459977   1.4394329 ]]\n"
          ]
        }
      ],
      "source": [
        "# Define the mean and standard deviation of the distribution\n",
        "mean = (0, 0)\n",
        "std = (1, 1)\n",
        "\n",
        "# Generate 1000 samples from the distribution\n",
        "samples = np.random.normal(mean, std, (1000, 2))\n",
        "\n",
        "# Print the samples\n",
        "print(samples[:10])\n"
      ]
    },
    {
      "cell_type": "code",
      "source": [
        "samples.shape"
      ],
      "metadata": {
        "colab": {
          "base_uri": "https://localhost:8080/"
        },
        "id": "Bh8VcjNnhyGk",
        "outputId": "84b5f843-5c73-4cce-c08a-a1c47d24afb1"
      },
      "execution_count": null,
      "outputs": [
        {
          "output_type": "execute_result",
          "data": {
            "text/plain": [
              "(1000, 2)"
            ]
          },
          "metadata": {},
          "execution_count": 156
        }
      ]
    },
    {
      "cell_type": "code",
      "source": [
        "from sklearn.ensemble import IsolationForest\n",
        "\n",
        "model = IsolationForest(n_estimators=10, contamination='auto')\n",
        "model.fit(samples)\n"
      ],
      "metadata": {
        "id": "GfYDvvI9eNd7",
        "colab": {
          "base_uri": "https://localhost:8080/",
          "height": 74
        },
        "outputId": "b6d62d08-73fc-4bcc-bd70-18f7e43aee8d"
      },
      "execution_count": null,
      "outputs": [
        {
          "output_type": "execute_result",
          "data": {
            "text/plain": [
              "IsolationForest(n_estimators=10)"
            ],
            "text/html": [
              "<style>#sk-container-id-5 {color: black;background-color: white;}#sk-container-id-5 pre{padding: 0;}#sk-container-id-5 div.sk-toggleable {background-color: white;}#sk-container-id-5 label.sk-toggleable__label {cursor: pointer;display: block;width: 100%;margin-bottom: 0;padding: 0.3em;box-sizing: border-box;text-align: center;}#sk-container-id-5 label.sk-toggleable__label-arrow:before {content: \"▸\";float: left;margin-right: 0.25em;color: #696969;}#sk-container-id-5 label.sk-toggleable__label-arrow:hover:before {color: black;}#sk-container-id-5 div.sk-estimator:hover label.sk-toggleable__label-arrow:before {color: black;}#sk-container-id-5 div.sk-toggleable__content {max-height: 0;max-width: 0;overflow: hidden;text-align: left;background-color: #f0f8ff;}#sk-container-id-5 div.sk-toggleable__content pre {margin: 0.2em;color: black;border-radius: 0.25em;background-color: #f0f8ff;}#sk-container-id-5 input.sk-toggleable__control:checked~div.sk-toggleable__content {max-height: 200px;max-width: 100%;overflow: auto;}#sk-container-id-5 input.sk-toggleable__control:checked~label.sk-toggleable__label-arrow:before {content: \"▾\";}#sk-container-id-5 div.sk-estimator input.sk-toggleable__control:checked~label.sk-toggleable__label {background-color: #d4ebff;}#sk-container-id-5 div.sk-label input.sk-toggleable__control:checked~label.sk-toggleable__label {background-color: #d4ebff;}#sk-container-id-5 input.sk-hidden--visually {border: 0;clip: rect(1px 1px 1px 1px);clip: rect(1px, 1px, 1px, 1px);height: 1px;margin: -1px;overflow: hidden;padding: 0;position: absolute;width: 1px;}#sk-container-id-5 div.sk-estimator {font-family: monospace;background-color: #f0f8ff;border: 1px dotted black;border-radius: 0.25em;box-sizing: border-box;margin-bottom: 0.5em;}#sk-container-id-5 div.sk-estimator:hover {background-color: #d4ebff;}#sk-container-id-5 div.sk-parallel-item::after {content: \"\";width: 100%;border-bottom: 1px solid gray;flex-grow: 1;}#sk-container-id-5 div.sk-label:hover label.sk-toggleable__label {background-color: #d4ebff;}#sk-container-id-5 div.sk-serial::before {content: \"\";position: absolute;border-left: 1px solid gray;box-sizing: border-box;top: 0;bottom: 0;left: 50%;z-index: 0;}#sk-container-id-5 div.sk-serial {display: flex;flex-direction: column;align-items: center;background-color: white;padding-right: 0.2em;padding-left: 0.2em;position: relative;}#sk-container-id-5 div.sk-item {position: relative;z-index: 1;}#sk-container-id-5 div.sk-parallel {display: flex;align-items: stretch;justify-content: center;background-color: white;position: relative;}#sk-container-id-5 div.sk-item::before, #sk-container-id-5 div.sk-parallel-item::before {content: \"\";position: absolute;border-left: 1px solid gray;box-sizing: border-box;top: 0;bottom: 0;left: 50%;z-index: -1;}#sk-container-id-5 div.sk-parallel-item {display: flex;flex-direction: column;z-index: 1;position: relative;background-color: white;}#sk-container-id-5 div.sk-parallel-item:first-child::after {align-self: flex-end;width: 50%;}#sk-container-id-5 div.sk-parallel-item:last-child::after {align-self: flex-start;width: 50%;}#sk-container-id-5 div.sk-parallel-item:only-child::after {width: 0;}#sk-container-id-5 div.sk-dashed-wrapped {border: 1px dashed gray;margin: 0 0.4em 0.5em 0.4em;box-sizing: border-box;padding-bottom: 0.4em;background-color: white;}#sk-container-id-5 div.sk-label label {font-family: monospace;font-weight: bold;display: inline-block;line-height: 1.2em;}#sk-container-id-5 div.sk-label-container {text-align: center;}#sk-container-id-5 div.sk-container {/* jupyter's `normalize.less` sets `[hidden] { display: none; }` but bootstrap.min.css set `[hidden] { display: none !important; }` so we also need the `!important` here to be able to override the default hidden behavior on the sphinx rendered scikit-learn.org. See: https://github.com/scikit-learn/scikit-learn/issues/21755 */display: inline-block !important;position: relative;}#sk-container-id-5 div.sk-text-repr-fallback {display: none;}</style><div id=\"sk-container-id-5\" class=\"sk-top-container\"><div class=\"sk-text-repr-fallback\"><pre>IsolationForest(n_estimators=10)</pre><b>In a Jupyter environment, please rerun this cell to show the HTML representation or trust the notebook. <br />On GitHub, the HTML representation is unable to render, please try loading this page with nbviewer.org.</b></div><div class=\"sk-container\" hidden><div class=\"sk-item\"><div class=\"sk-estimator sk-toggleable\"><input class=\"sk-toggleable__control sk-hidden--visually\" id=\"sk-estimator-id-5\" type=\"checkbox\" checked><label for=\"sk-estimator-id-5\" class=\"sk-toggleable__label sk-toggleable__label-arrow\">IsolationForest</label><div class=\"sk-toggleable__content\"><pre>IsolationForest(n_estimators=10)</pre></div></div></div></div></div>"
            ]
          },
          "metadata": {},
          "execution_count": 157
        }
      ]
    },
    {
      "cell_type": "code",
      "source": [
        "model"
      ],
      "metadata": {
        "colab": {
          "base_uri": "https://localhost:8080/",
          "height": 74
        },
        "id": "4rTyWefxfaiR",
        "outputId": "17405403-252d-4aeb-a516-b77e1c1ffb24"
      },
      "execution_count": null,
      "outputs": [
        {
          "output_type": "execute_result",
          "data": {
            "text/plain": [
              "IsolationForest(n_estimators=10)"
            ],
            "text/html": [
              "<style>#sk-container-id-6 {color: black;background-color: white;}#sk-container-id-6 pre{padding: 0;}#sk-container-id-6 div.sk-toggleable {background-color: white;}#sk-container-id-6 label.sk-toggleable__label {cursor: pointer;display: block;width: 100%;margin-bottom: 0;padding: 0.3em;box-sizing: border-box;text-align: center;}#sk-container-id-6 label.sk-toggleable__label-arrow:before {content: \"▸\";float: left;margin-right: 0.25em;color: #696969;}#sk-container-id-6 label.sk-toggleable__label-arrow:hover:before {color: black;}#sk-container-id-6 div.sk-estimator:hover label.sk-toggleable__label-arrow:before {color: black;}#sk-container-id-6 div.sk-toggleable__content {max-height: 0;max-width: 0;overflow: hidden;text-align: left;background-color: #f0f8ff;}#sk-container-id-6 div.sk-toggleable__content pre {margin: 0.2em;color: black;border-radius: 0.25em;background-color: #f0f8ff;}#sk-container-id-6 input.sk-toggleable__control:checked~div.sk-toggleable__content {max-height: 200px;max-width: 100%;overflow: auto;}#sk-container-id-6 input.sk-toggleable__control:checked~label.sk-toggleable__label-arrow:before {content: \"▾\";}#sk-container-id-6 div.sk-estimator input.sk-toggleable__control:checked~label.sk-toggleable__label {background-color: #d4ebff;}#sk-container-id-6 div.sk-label input.sk-toggleable__control:checked~label.sk-toggleable__label {background-color: #d4ebff;}#sk-container-id-6 input.sk-hidden--visually {border: 0;clip: rect(1px 1px 1px 1px);clip: rect(1px, 1px, 1px, 1px);height: 1px;margin: -1px;overflow: hidden;padding: 0;position: absolute;width: 1px;}#sk-container-id-6 div.sk-estimator {font-family: monospace;background-color: #f0f8ff;border: 1px dotted black;border-radius: 0.25em;box-sizing: border-box;margin-bottom: 0.5em;}#sk-container-id-6 div.sk-estimator:hover {background-color: #d4ebff;}#sk-container-id-6 div.sk-parallel-item::after {content: \"\";width: 100%;border-bottom: 1px solid gray;flex-grow: 1;}#sk-container-id-6 div.sk-label:hover label.sk-toggleable__label {background-color: #d4ebff;}#sk-container-id-6 div.sk-serial::before {content: \"\";position: absolute;border-left: 1px solid gray;box-sizing: border-box;top: 0;bottom: 0;left: 50%;z-index: 0;}#sk-container-id-6 div.sk-serial {display: flex;flex-direction: column;align-items: center;background-color: white;padding-right: 0.2em;padding-left: 0.2em;position: relative;}#sk-container-id-6 div.sk-item {position: relative;z-index: 1;}#sk-container-id-6 div.sk-parallel {display: flex;align-items: stretch;justify-content: center;background-color: white;position: relative;}#sk-container-id-6 div.sk-item::before, #sk-container-id-6 div.sk-parallel-item::before {content: \"\";position: absolute;border-left: 1px solid gray;box-sizing: border-box;top: 0;bottom: 0;left: 50%;z-index: -1;}#sk-container-id-6 div.sk-parallel-item {display: flex;flex-direction: column;z-index: 1;position: relative;background-color: white;}#sk-container-id-6 div.sk-parallel-item:first-child::after {align-self: flex-end;width: 50%;}#sk-container-id-6 div.sk-parallel-item:last-child::after {align-self: flex-start;width: 50%;}#sk-container-id-6 div.sk-parallel-item:only-child::after {width: 0;}#sk-container-id-6 div.sk-dashed-wrapped {border: 1px dashed gray;margin: 0 0.4em 0.5em 0.4em;box-sizing: border-box;padding-bottom: 0.4em;background-color: white;}#sk-container-id-6 div.sk-label label {font-family: monospace;font-weight: bold;display: inline-block;line-height: 1.2em;}#sk-container-id-6 div.sk-label-container {text-align: center;}#sk-container-id-6 div.sk-container {/* jupyter's `normalize.less` sets `[hidden] { display: none; }` but bootstrap.min.css set `[hidden] { display: none !important; }` so we also need the `!important` here to be able to override the default hidden behavior on the sphinx rendered scikit-learn.org. See: https://github.com/scikit-learn/scikit-learn/issues/21755 */display: inline-block !important;position: relative;}#sk-container-id-6 div.sk-text-repr-fallback {display: none;}</style><div id=\"sk-container-id-6\" class=\"sk-top-container\"><div class=\"sk-text-repr-fallback\"><pre>IsolationForest(n_estimators=10)</pre><b>In a Jupyter environment, please rerun this cell to show the HTML representation or trust the notebook. <br />On GitHub, the HTML representation is unable to render, please try loading this page with nbviewer.org.</b></div><div class=\"sk-container\" hidden><div class=\"sk-item\"><div class=\"sk-estimator sk-toggleable\"><input class=\"sk-toggleable__control sk-hidden--visually\" id=\"sk-estimator-id-6\" type=\"checkbox\" checked><label for=\"sk-estimator-id-6\" class=\"sk-toggleable__label sk-toggleable__label-arrow\">IsolationForest</label><div class=\"sk-toggleable__content\"><pre>IsolationForest(n_estimators=10)</pre></div></div></div></div></div>"
            ]
          },
          "metadata": {},
          "execution_count": 158
        }
      ]
    },
    {
      "cell_type": "markdown",
      "source": [
        "Once the model is trained, you can use it to make predictions on the same data:\n"
      ],
      "metadata": {
        "id": "EXQ7ITFsehdc"
      }
    },
    {
      "cell_type": "code",
      "source": [
        "y_pred = model.predict(samples)\n"
      ],
      "metadata": {
        "id": "WQDjRLi5ekMz"
      },
      "execution_count": null,
      "outputs": []
    },
    {
      "cell_type": "code",
      "source": [
        "y_pred.shape"
      ],
      "metadata": {
        "colab": {
          "base_uri": "https://localhost:8080/"
        },
        "id": "3Ujk2hsZffDC",
        "outputId": "634ccb6b-a08d-4366-aac5-385a349b0d50"
      },
      "execution_count": null,
      "outputs": [
        {
          "output_type": "execute_result",
          "data": {
            "text/plain": [
              "(1000,)"
            ]
          },
          "metadata": {},
          "execution_count": 163
        }
      ]
    },
    {
      "cell_type": "code",
      "source": [
        "y_pred[:10]"
      ],
      "metadata": {
        "colab": {
          "base_uri": "https://localhost:8080/"
        },
        "id": "7LYBdUtQiAcw",
        "outputId": "d5206f94-2f99-4bd3-d70a-337713af7ee2"
      },
      "execution_count": null,
      "outputs": [
        {
          "output_type": "execute_result",
          "data": {
            "text/plain": [
              "array([ 1,  1,  1,  1,  1, -1,  1,  1,  1,  1])"
            ]
          },
          "metadata": {},
          "execution_count": 164
        }
      ]
    },
    {
      "cell_type": "code",
      "source": [
        "# Create a colormap\n",
        "cmap = plt.cm.get_cmap('cool')\n",
        "\n",
        "# Color the points by whether prediction is 1 or -1\n",
        "c = np.where(y_pred == 1, 'red', 'blue')\n",
        "\n",
        "# Plot the points\n",
        "plt.scatter(samples[:,0], samples[:,1], c=c)\n",
        "\n",
        "# Show the plot\n",
        "plt.show()\n"
      ],
      "metadata": {
        "id": "D_awSM9jeltg",
        "colab": {
          "base_uri": "https://localhost:8080/",
          "height": 486
        },
        "outputId": "6e6030c6-d292-457e-8cb8-c67a017711c7"
      },
      "execution_count": null,
      "outputs": [
        {
          "output_type": "stream",
          "name": "stderr",
          "text": [
            "<ipython-input-167-f56f4e49e432>:2: MatplotlibDeprecationWarning: The get_cmap function was deprecated in Matplotlib 3.7 and will be removed two minor releases later. Use ``matplotlib.colormaps[name]`` or ``matplotlib.colormaps.get_cmap(obj)`` instead.\n",
            "  cmap = plt.cm.get_cmap('cool')\n"
          ]
        },
        {
          "output_type": "display_data",
          "data": {
            "text/plain": [
              "<Figure size 640x480 with 1 Axes>"
            ],
            "image/png": "[encoded data removed]"
          },
          "metadata": {}
        }
      ]
    },
    {
      "cell_type": "markdown",
      "source": [],
      "metadata": {
        "id": "nS64ymuuU6_x"
      }
    }
  ]
}