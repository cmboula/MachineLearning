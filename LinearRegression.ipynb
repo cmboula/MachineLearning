{
  "nbformat": 4,
  "nbformat_minor": 0,
  "metadata": {
    "colab": {
      "provenance": [],
      "authorship_tag": "ABX9TyN1CgPP+0g/u9QQWBltoDMH",
      "include_colab_link": true
    },
    "kernelspec": {
      "name": "python3",
      "display_name": "Python 3"
    },
    "language_info": {
      "name": "python"
    }
  },
  "cells": [
    {
      "cell_type": "markdown",
      "metadata": {
        "id": "view-in-github",
        "colab_type": "text"
      },
      "source": [
        "<a href=\"https://colab.research.google.com/github/cmboula/MachineLearning/blob/master/LinearRegression.ipynb\" target=\"_parent\"><img src=\"https://colab.research.google.com/assets/colab-badge.svg\" alt=\"Open In Colab\"/></a>"
      ]
    },
    {
      "cell_type": "code",
      "execution_count": 2,
      "metadata": {
        "colab": {
          "base_uri": "https://localhost:8080/"
        },
        "id": "w7cLlwIQ5dQd",
        "outputId": "e3ffe04b-4830-4ebe-b0c7-935815350873"
      },
      "outputs": [
        {
          "output_type": "execute_result",
          "data": {
            "text/plain": [
              "array([[ 2.3577116 , -0.75728867,  0.30499103],\n",
              "       [-2.27171739, -1.81970663, -0.4470405 ],\n",
              "       [ 1.21259114, -0.50390931, -0.35546938],\n",
              "       [-1.41935914,  1.9229856 , -0.48918845],\n",
              "       [ 1.61562536,  0.87541857, -0.16812364],\n",
              "       [-1.49485157,  0.28250044,  1.15483094]])"
            ]
          },
          "metadata": {},
          "execution_count": 2
        }
      ],
      "source": [
        "#Linear Algebra and Regression II Assignment\n",
        "#christian Mboula\n",
        "\n",
        "import numpy as np\n",
        "from sklearn.decomposition import PCA\n",
        "import matplotlib.pyplot as plt\n",
        "\n",
        "#Write a Python function that takes a matrix A and an integer k as input and returns the top k principal components of A using PCA.\n",
        "import numpy as np\n",
        "from sklearn.decomposition import PCA\n",
        "\n",
        "def GetTopK_PrincipalComponents(A, k):\n",
        "    \"\"\"\n",
        "    Compute the top k principal components of matrix A using PCA.\n",
        "\n",
        "    Parameters:\n",
        "    - A: numpy.ndarray, input matrix of shape (m, n)\n",
        "    - k: int, number of top principal components to compute\n",
        "\n",
        "    Returns:\n",
        "    - numpy.ndarray, matrix of shape (m, k) containing the top k principal components\n",
        "    \"\"\"\n",
        "    # Perform mean centering by subtracting the mean of each column\n",
        "    standardized_data = ( A - np.mean(A, axis=0)) / np.std(A, axis = 0)\n",
        "\n",
        "    # Initialize PCA with k components\n",
        "    pca = PCA(n_components=k)\n",
        "\n",
        "    # Fit PCA to the standardized data and transform it\n",
        "    principal_components = pca.fit_transform(standardized_data)\n",
        "\n",
        "    return principal_components\n",
        "\n",
        "\n",
        "#EXAMPLE\n",
        "# matrix representation of the data - has shape (n, d)\n",
        "data = np.array([\n",
        "    [   1,   2,  -1,   4,  10],\n",
        "    [   3,  -3,  -3,  12, -15],\n",
        "    [   2,   1,  -2,   4,   5],\n",
        "    [   5,   1,  -5,  10,   5],\n",
        "    [   2,   3,  -3,   5,  12],\n",
        "    [   4,   0,  -3,  16,   2],\n",
        "])\n",
        "\n",
        "GetTopK_PrincipalComponents(data, k=3)\n"
      ]
    },
    {
      "cell_type": "code",
      "source": [],
      "metadata": {
        "id": "dTFcj7_u6L8C"
      },
      "execution_count": null,
      "outputs": []
    },
    {
      "cell_type": "code",
      "source": [
        "\n",
        "\n",
        "#Write a Python function that takes a matrix A as input and returns its singular value decomposition (SVD).\n",
        "def GetSVD(A):\n",
        "    \"\"\"\n",
        "    Compute the Singular Value Decomposition (SVD) of matrix A.\n",
        "\n",
        "    Parameters:\n",
        "    - A: numpy.ndarray, input matrix of shape (m, n)\n",
        "\n",
        "    Returns:\n",
        "    - U: numpy.ndarray, the left singular vectors of A, of shape (m, m)\n",
        "    - S: numpy.ndarray, the singular values of A, of shape (min(m, n),)\n",
        "    - V: numpy.ndarray, the right singular vectors of A (transpose), of shape (n, n)\n",
        "    \"\"\"\n",
        "\n",
        "    # Compute the SVD\n",
        "    U, S, V = np.linalg.svd(A, full_matrices=True)\n",
        "\n",
        "    # Print the result\n",
        "    print(\"\\nFactor of the given array  by Singular Value Decomposition:\")\n",
        "    print(\"\\nU=\", U, \"\\n\\ns=\", S, \"\\n\\nV=\", V)\n",
        "    return U, S, V"
      ],
      "metadata": {
        "id": "I4u9usEu9vwh"
      },
      "execution_count": null,
      "outputs": []
    },
    {
      "cell_type": "code",
      "source": [
        "#Write a Python code to derive simple linear regressions best-fit line in python\n",
        "# Sample data\n",
        "import pandas as pd\n",
        "\n",
        "#create DataFrame\n",
        "df = pd.DataFrame({'x': [1, 2, 3, 4, 5, 6, 7, 8, 9, 10, 11, 12, 13, 14, 15],\n",
        "                   'y': [3, 14, 23, 25, 23, 15, 9, 5, 9, 13, 17, 24, 32, 36, 46]})\n",
        "\n",
        "x = df.x\n",
        "y = df.y\n",
        "\n",
        "# Calculate the slope (m) and y-intercept (b)\n",
        "m, b = np.polyfit(x, y, 1)\n",
        "\n",
        "# Create the best-fit line equation\n",
        "bestFitLine = m * x + b\n",
        "\n",
        "# Create a scatter plot of the data points\n",
        "plt.scatter(x, y, label='Data Points')\n",
        "\n",
        "# Plot the best-fit line\n",
        "plt.plot(x, bestFitLine, color='red', label='Best-Fit Line')\n",
        "\n",
        "# Add labels and a legend\n",
        "plt.xlabel('X')\n",
        "plt.ylabel('Y')\n",
        "plt.legend()\n",
        "\n",
        "# Display the plot\n",
        "plt.show()\n",
        "\n"
      ],
      "metadata": {
        "colab": {
          "base_uri": "https://localhost:8080/",
          "height": 449
        },
        "id": "PYN11xgp6Qil",
        "outputId": "a8ed0010-ee98-4e78-d723-6a720880b0ca"
      },
      "execution_count": 7,
      "outputs": [
        {
          "output_type": "display_data",
          "data": {
            "text/plain": [
              "<Figure size 640x480 with 1 Axes>"
            ],
            "image/png": "[encoded data removed]"
          },
          "metadata": {}
        }
      ]
    }
  ]
}